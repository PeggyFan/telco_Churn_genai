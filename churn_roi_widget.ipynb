{
 "cells": [
  {
   "cell_type": "code",
   "execution_count": 1,
   "id": "160d1d49-9810-4fbe-ae16-ad25c33e942c",
   "metadata": {},
   "outputs": [],
   "source": [
    "import pandas as pd\n",
    "import numpy as np\n",
    "import ipywidgets as widgets\n",
    "from IPython.display import display, clear_output"
   ]
  },
  {
   "cell_type": "code",
   "execution_count": 3,
   "id": "2d01e680-6a41-4fd4-8a0b-3d04b0386e28",
   "metadata": {},
   "outputs": [
    {
     "name": "stdout",
     "output_type": "stream",
     "text": [
      "churn rate : 0.265\n",
      "customer_ltv : 2283.3\n",
      "retention_cost : 12.95\n",
      "recall : 0.82\n",
      "precision : 0.8\n"
     ]
    }
   ],
   "source": [
    "churn_rate = 0.265\n",
    "customer_ltv = 2283.30\n",
    "retention_cost = 12.95\n",
    "recall = 0.82\n",
    "precision = 0.80\n",
    "\n",
    "print(f'churn rate : {churn_rate}')\n",
    "print(f'customer_ltv : {customer_ltv}')\n",
    "print(f'retention_cost : {retention_cost}')\n",
    "print(f'recall : {recall}')\n",
    "print(f'precision : {precision}')"
   ]
  },
  {
   "cell_type": "code",
   "execution_count": 4,
   "id": "509bb4be-e66e-499b-a86b-3fbd148aa434",
   "metadata": {},
   "outputs": [
    {
     "data": {
      "application/vnd.jupyter.widget-view+json": {
       "model_id": "e42d2f5bebdc47b7966b15b4a00d4314",
       "version_major": 2,
       "version_minor": 0
      },
      "text/plain": [
       "VBox(children=(FloatText(value=500.0, description='Customer Lifetime Value ($)', style=DescriptionStyle(descri…"
      ]
     },
     "metadata": {},
     "output_type": "display_data"
    }
   ],
   "source": [
    "# --- helper for ROI computation ---\n",
    "def churn_roi_summary(customer_ltv, retention_cost, churn_rate, total_customers,\n",
    "                      precision, recall):\n",
    "    actual_churners = int(total_customers * churn_rate)\n",
    "    actual_nonchurners = total_customers - actual_churners\n",
    "    tp = int(recall * actual_churners)\n",
    "    fn = actual_churners - tp\n",
    "    fp = int(tp * (1 / precision - 1))\n",
    "    flagged = tp + fp\n",
    "\n",
    "    campaign_cost = flagged * retention_cost\n",
    "    revenue_protected = tp * customer_ltv\n",
    "    revenue_lost = fn * customer_ltv\n",
    "    net_savings = revenue_protected - campaign_cost\n",
    "\n",
    "    return {\n",
    "        \"Flagged Customers\": flagged,\n",
    "        \"Revenue Protected ($)\": revenue_protected,\n",
    "        \"Campaign Cost ($)\": campaign_cost,\n",
    "        \"Revenue Lost ($)\": revenue_lost,\n",
    "        \"Net Savings ($)\": net_savings,\n",
    "        \"Precision\": round(precision,3),\n",
    "        \"Recall\": round(recall,3)\n",
    "    }\n",
    "\n",
    "# --- interactive UI ---\n",
    "\n",
    "# wide_layout = widgets.Layout(width='400px')  # controls input box width\n",
    "label_style = {'description_width': 'initial'}  # allow long labels to wrap or fully display\n",
    "\n",
    "ltv_in = widgets.FloatText(\n",
    "    value=500,\n",
    "    description=\"Customer Lifetime Value ($)\",\n",
    "    # layout=wide_layout,\n",
    "    style=label_style\n",
    ")\n",
    "\n",
    "cost_in = widgets.FloatText(\n",
    "    value=20,\n",
    "    description=\"Retention Cost ($)\",\n",
    "    # layout=wide_layout,\n",
    "    style=label_style\n",
    ")\n",
    "\n",
    "churn_in = widgets.FloatSlider(\n",
    "    value=0.25, min=0.01, max=0.6, step=0.01,\n",
    "    description=\"Churn Rate\",\n",
    "    # layout=wide_layout,\n",
    "    style=label_style,\n",
    "    readout_format=\".2f\"\n",
    ")\n",
    "\n",
    "cust_in = widgets.IntText(\n",
    "    value=10000,\n",
    "    description=\"Total Customers\",\n",
    "    # layout=wide_layout,\n",
    "    style=label_style\n",
    ")\n",
    "\n",
    "prec_in = widgets.FloatSlider(\n",
    "    value=0.9, min=0.1, max=1.0, step=0.01,\n",
    "    description=\"Model Precision\",\n",
    "    # layout=wide_layout,\n",
    "    style=label_style,\n",
    "    readout_format=\".2f\"\n",
    ")\n",
    "\n",
    "rec_in = widgets.FloatSlider(\n",
    "    value=0.6, min=0.1, max=1.0, step=0.01,\n",
    "    description=\"Model Recall\",\n",
    "    # layout=wide_layout,\n",
    "    style=label_style,\n",
    "    readout_format=\".2f\"\n",
    ")\n",
    "\n",
    "out = widgets.Output()\n",
    "\n",
    "def update_table(_=None):\n",
    "    with out:\n",
    "        clear_output()\n",
    "        res = churn_roi_summary(\n",
    "            ltv_in.value, cost_in.value, churn_in.value, cust_in.value,\n",
    "            prec_in.value, rec_in.value\n",
    "        )\n",
    "        df = pd.DataFrame([res])\n",
    "        display(df.style.format({\n",
    "            \"Revenue Protected ($)\": \"{:,.0f}\",\n",
    "            \"Campaign Cost ($)\": \"{:,.0f}\",\n",
    "            \"Revenue Lost ($)\": \"{:,.0f}\",\n",
    "            \"Net Savings ($)\": \"{:,.0f}\"\n",
    "        }).background_gradient(subset=[\"Net Savings ($)\"], cmap=\"Greens\"))\n",
    "\n",
    "for w in [ltv_in, cost_in, churn_in, cust_in, prec_in, rec_in]:\n",
    "    w.observe(update_table, names=\"value\")\n",
    "\n",
    "# with out:\n",
    "#   display(widgets.VBox([ltv_in, cost_in, churn_in, cust_in, prec_in, rec_in, out]))\n",
    "# display(out)\n",
    "\n",
    "display(widgets.VBox([ltv_in, cost_in, churn_in, cust_in, prec_in, rec_in, out]))\n",
    "update_table()\n"
   ]
  },
  {
   "cell_type": "code",
   "execution_count": null,
   "id": "cf483e71-a891-40a2-98d8-8d28a70e4c03",
   "metadata": {},
   "outputs": [],
   "source": []
  }
 ],
 "metadata": {
  "kernelspec": {
   "display_name": "Python 3 (ipykernel)",
   "language": "python",
   "name": "python3"
  },
  "language_info": {
   "codemirror_mode": {
    "name": "ipython",
    "version": 3
   },
   "file_extension": ".py",
   "mimetype": "text/x-python",
   "name": "python",
   "nbconvert_exporter": "python",
   "pygments_lexer": "ipython3",
   "version": "3.11.4"
  }
 },
 "nbformat": 4,
 "nbformat_minor": 5
}
