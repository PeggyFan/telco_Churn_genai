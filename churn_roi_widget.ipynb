{
 "cells": [
  {
   "cell_type": "code",
   "execution_count": 1,
   "id": "160d1d49-9810-4fbe-ae16-ad25c33e942c",
   "metadata": {},
   "outputs": [],
   "source": [
    "import pandas as pd\n",
    "import numpy as np\n",
    "import ipywidgets as widgets\n",
    "from IPython.display import display, clear_output"
   ]
  },
  {
   "cell_type": "code",
   "execution_count": 14,
   "id": "7d5e76cb-dcaa-406d-b9e6-7e04cfa71626",
   "metadata": {},
   "outputs": [
    {
     "data": {
      "text/html": [
       "<h2 style='color: #2E86C1; text-align:center;'>Customer Churn ROI Calculator</h2>"
      ],
      "text/plain": [
       "<IPython.core.display.HTML object>"
      ]
     },
     "metadata": {},
     "output_type": "display_data"
    },
    {
     "data": {
      "application/vnd.jupyter.widget-view+json": {
       "model_id": "6174adc5914d44e1876da30960f27368",
       "version_major": 2,
       "version_minor": 0
      },
      "text/plain": [
       "HBox(children=(VBox(children=(HTML(value='<b>Model Metrics</b>'), FloatSlider(value=0.6, description='Recall',…"
      ]
     },
     "metadata": {},
     "output_type": "display_data"
    },
    {
     "data": {
      "application/vnd.jupyter.widget-view+json": {
       "model_id": "dd9c2600d3df42b597ea1898b661dd53",
       "version_major": 2,
       "version_minor": 0
      },
      "text/plain": [
       "HTML(value='<br><br>')"
      ]
     },
     "metadata": {},
     "output_type": "display_data"
    },
    {
     "data": {
      "application/vnd.jupyter.widget-view+json": {
       "model_id": "7a76e1b0681f4488899ca59770c2c8e2",
       "version_major": 2,
       "version_minor": 0
      },
      "text/plain": [
       "Output()"
      ]
     },
     "metadata": {},
     "output_type": "display_data"
    }
   ],
   "source": [
    "import ipywidgets as widgets\n",
    "from IPython.display import display, HTML\n",
    "import pandas as pd\n",
    "\n",
    "# --- ROI calculation function ---\n",
    "def churn_roi_summary(churn_rate, total_customers, customer_ltv, retention_cost, recall, precision):\n",
    "    churned_customers = total_customers * churn_rate\n",
    "    true_positives = churned_customers * recall\n",
    "    predicted_positives = true_positives / precision if precision > 0 else 0\n",
    "    false_positives = max(predicted_positives - true_positives, 0)\n",
    "\n",
    "    retained_revenue = true_positives * customer_ltv\n",
    "    retention_spend = (true_positives + false_positives) * retention_cost\n",
    "    net_savings = retained_revenue - retention_spend\n",
    "    roi = net_savings / retention_spend if retention_spend > 0 else 0\n",
    "\n",
    "    # Prepare horizontal DataFrame\n",
    "    metrics = [\n",
    "        \"Churn Rate\",\n",
    "        \"Total Customers\",\n",
    "        \"Predicted Churned (TP+FP)\",\n",
    "        \"True Churned (TP)\",\n",
    "        \"False Positives\",\n",
    "        \"Customer LTV ($)\",\n",
    "        \"Retention Cost ($)\",\n",
    "        \"Revenue Protected ($)\",\n",
    "        \"Retention Spend ($)\",\n",
    "        \"Net Savings ($)\",\n",
    "        \"ROI\"\n",
    "    ]\n",
    "    values = [\n",
    "        f\"{churn_rate:.2%}\",\n",
    "        f\"{total_customers:,.0f}\",\n",
    "        f\"{predicted_positives:,.0f}\",\n",
    "        f\"{true_positives:,.0f}\",\n",
    "        f\"{false_positives:,.0f}\",\n",
    "        f\"${customer_ltv:,.0f}\",\n",
    "        f\"${retention_cost:,.0f}\",\n",
    "        f\"${retained_revenue:,.0f}\",\n",
    "        f\"${retention_spend:,.0f}\",\n",
    "        f\"${net_savings:,.0f}\",\n",
    "        f\"{roi:.2f}\"\n",
    "    ]\n",
    "\n",
    "    # Color coding ROI & Net Savings\n",
    "    colored_values = []\n",
    "    for metric, val in zip(metrics, values):\n",
    "        if metric in [\"Net Savings ($)\", \"ROI\"]:\n",
    "            try:\n",
    "                number = float(val.replace('$','').replace(',',''))\n",
    "            except:\n",
    "                number = float(val)\n",
    "            color = \"green\" if number > 0 else \"red\"\n",
    "            val = f\"<span style='color:{color}; font-weight:bold'>{val}</span>\"\n",
    "        colored_values.append(val)\n",
    "\n",
    "    df_horizontal = pd.DataFrame([colored_values], columns=metrics)\n",
    "\n",
    "    # --- Centered table with proper grid lines using CSS ---\n",
    "    html_table = df_horizontal.to_html(index=False, escape=False)\n",
    "    styled_html = f\"\"\"\n",
    "    <div style='display:flex; justify-content:center; margin-top:20px'>\n",
    "        <table style='border-collapse: collapse; border: 1px solid black;'>\n",
    "            <thead>\n",
    "                {html_table.split('<thead>')[1].split('</thead>')[0]}\n",
    "            </thead>\n",
    "            <tbody>\n",
    "                {html_table.split('<tbody>')[1].split('</tbody>')[0]}\n",
    "            </tbody>\n",
    "        </table>\n",
    "    </div>\n",
    "    <style>\n",
    "        table, th, td {{\n",
    "            border: 1px solid black;\n",
    "            padding: 8px;\n",
    "            text-align: center;\n",
    "        }}\n",
    "        th {{\n",
    "            background-color: #f0f0f0;\n",
    "        }}\n",
    "    </style>\n",
    "    \"\"\"\n",
    "    display(HTML(styled_html))\n",
    "\n",
    "# --- Title ---\n",
    "title_html = HTML(\"<h2 style='color: #2E86C1; text-align:center;'>Customer Churn ROI Calculator</h2>\")\n",
    "display(title_html)\n",
    "\n",
    "# --- Widgets ---\n",
    "recall_input = widgets.FloatSlider(value=0.6, min=0.0, max=1.0, step=0.01, description='Recall', style={'description_width': '120px'}, readout_format='.0%')\n",
    "precision_input = widgets.FloatSlider(value=0.7, min=0.0, max=1.0, step=0.01, description='Precision', style={'description_width': '120px'}, readout_format='.0%')\n",
    "model_metrics_box = widgets.VBox([widgets.HTML(\"<b>Model Metrics</b>\"), recall_input, precision_input])\n",
    "\n",
    "churn_rate_input = widgets.FloatSlider(value=0.25, min=0.01, max=1.0, step=0.01, description='Churn Rate', style={'description_width': '120px'}, readout_format='.0%')\n",
    "total_customers_input = widgets.IntText(value=10000, description='Total Customers', style={'description_width': '120px'})\n",
    "customer_ltv_input = widgets.FloatText(value=1000, description='Customer LTV ($)', style={'description_width': '120px'})\n",
    "retention_cost_input = widgets.FloatText(value=50, description='Retention Cost ($)', style={'description_width': '120px'})\n",
    "financial_inputs_box = widgets.VBox([widgets.HTML(\"<b>Financial Inputs</b>\"), churn_rate_input, total_customers_input, customer_ltv_input, retention_cost_input])\n",
    "\n",
    "ui = widgets.HBox([model_metrics_box, financial_inputs_box], layout=widgets.Layout(justify_content='space-around'))\n",
    "\n",
    "out = widgets.interactive_output(\n",
    "    churn_roi_summary,\n",
    "    {\n",
    "        'churn_rate': churn_rate_input,\n",
    "        'total_customers': total_customers_input,\n",
    "        'customer_ltv': customer_ltv_input,\n",
    "        'retention_cost': retention_cost_input,\n",
    "        'recall': recall_input,\n",
    "        'precision': precision_input\n",
    "    }\n",
    ")\n",
    "\n",
    "display(ui)\n",
    "display(widgets.HTML(\"<br><br>\"))  # Extra space\n",
    "display(out)\n"
   ]
  },
  {
   "cell_type": "code",
   "execution_count": 28,
   "id": "849c0161-491d-466d-bae0-39d8ac1dbf21",
   "metadata": {},
   "outputs": [
    {
     "data": {
      "text/html": [
       "<h2 style='color: #2E86C1; text-align:center;'>Customer Churn ROI Calculator</h2>"
      ],
      "text/plain": [
       "<IPython.core.display.HTML object>"
      ]
     },
     "metadata": {},
     "output_type": "display_data"
    },
    {
     "data": {
      "application/vnd.jupyter.widget-view+json": {
       "model_id": "0847cf4d894f452eb626d01c2201f56b",
       "version_major": 2,
       "version_minor": 0
      },
      "text/plain": [
       "HBox(children=(VBox(children=(HTML(value='<b>Model Metrics</b>'), FloatSlider(value=0.6, description='Recall',…"
      ]
     },
     "metadata": {},
     "output_type": "display_data"
    },
    {
     "data": {
      "application/vnd.jupyter.widget-view+json": {
       "model_id": "66359e28e1de413a9afb25bcf1a25e7c",
       "version_major": 2,
       "version_minor": 0
      },
      "text/plain": [
       "HTML(value='<br><br>')"
      ]
     },
     "metadata": {},
     "output_type": "display_data"
    },
    {
     "data": {
      "application/vnd.jupyter.widget-view+json": {
       "model_id": "f1a66a491f974a419f9d57776297cf96",
       "version_major": 2,
       "version_minor": 0
      },
      "text/plain": [
       "Output()"
      ]
     },
     "metadata": {},
     "output_type": "display_data"
    }
   ],
   "source": [
    "import ipywidgets as widgets\n",
    "from ipywidgets import VBox, Layout, Label\n",
    "from IPython.display import display, HTML\n",
    "import pandas as pd\n",
    "\n",
    "# --- ROI calculation function ---\n",
    "def churn_roi_summary(churn_rate, total_customers, customer_ltv, retention_cost, recall, precision):\n",
    "    churned_customers = total_customers * churn_rate\n",
    "    true_positives = churned_customers * recall\n",
    "    predicted_positives = true_positives / precision if precision > 0 else 0\n",
    "    false_positives = max(predicted_positives - true_positives, 0)\n",
    "\n",
    "    retained_revenue = true_positives * customer_ltv\n",
    "    retention_spend = (true_positives + false_positives) * retention_cost\n",
    "    net_savings = retained_revenue - retention_spend\n",
    "    roi = net_savings / retention_spend if retention_spend > 0 else 0\n",
    "\n",
    "    # --- Prepare all metrics ---\n",
    "    metrics = [\n",
    "        \"Churn Rate\",\n",
    "        \"Total Customers\",\n",
    "        \"Predicted Churned\",\n",
    "        \"True Churned\",\n",
    "        \"False Positives\",\n",
    "        \"Customer LTV\",\n",
    "        \"Retention Cost\",\n",
    "        \"Revenue Protected\",\n",
    "        \"Retention Spend\",\n",
    "        \"Net Savings\",\n",
    "        \"ROI\"\n",
    "    ]\n",
    "    values = [\n",
    "        f\"{churn_rate:.2%}\",\n",
    "        f\"{total_customers:,.0f}\",\n",
    "        f\"{predicted_positives:,.0f}\",\n",
    "        f\"{true_positives:,.0f}\",\n",
    "        f\"{false_positives:,.0f}\",\n",
    "        f\"${customer_ltv:,.0f}\",\n",
    "        f\"${retention_cost:,.0f}\",\n",
    "        f\"${retained_revenue:,.0f}\",\n",
    "        f\"${retention_spend:,.0f}\",\n",
    "        f\"${net_savings:,.0f}\",\n",
    "        f\"{roi:.2f}\"\n",
    "    ]\n",
    "\n",
    "    # --- Split into two tables ---\n",
    "    # Table 1: Summary (all except Net Savings & ROI)\n",
    "    summary_metrics = metrics[:-2]\n",
    "    summary_values = values[:-2]\n",
    "    df_summary = pd.DataFrame([summary_values], columns=summary_metrics)\n",
    "\n",
    "    # Table 2: Business impact (Net Savings & ROI)\n",
    "    impact_metrics = metrics[-2:]\n",
    "    impact_values = values[-2:]\n",
    "    # Apply color coding\n",
    "    colored_impact_values = []\n",
    "    for metric, val in zip(impact_metrics, impact_values):\n",
    "        try:\n",
    "            number = float(val.replace('$','').replace(',',''))\n",
    "        except:\n",
    "            number = float(val)\n",
    "        color = \"green\" if number > 0 else \"red\"\n",
    "        val = f\"<span style='color:{color}; font-weight:bold'>{val}</span>\"\n",
    "        colored_impact_values.append(val)\n",
    "    df_impact = pd.DataFrame([colored_impact_values], columns=impact_metrics)\n",
    "\n",
    "    # --- Function to render table with borders ---\n",
    "    def render_table(df):\n",
    "        # html_table = df.to_html(index=False, escape=False)\n",
    "        # styled_html = f\"\"\"\n",
    "        # <div style='display:flex; justify-content:center; margin-top:15px'>\n",
    "        #     <table style='border-collapse: collapse;'>\n",
    "        #         <thead>\n",
    "        #             {html_table.split('<thead>')[1].split('</thead>')[0]}\n",
    "        #         </thead>\n",
    "        #         <tbody>\n",
    "        #             {html_table.split('<tbody>')[1].split('</tbody>')[0]}\n",
    "        #         </tbody>\n",
    "        #     </table>\n",
    "        # </div>\n",
    "        # <style>\n",
    "        #     table, th, td {{\n",
    "        #         border: 1px solid black;       /* grid lines for all cells */\n",
    "        #         padding: 8px;\n",
    "        #         text-align: center;\n",
    "        #     }}\n",
    "        #     th {{\n",
    "        #         background-color: #f0f0f0;\n",
    "        #     }}\n",
    "        # </style>\n",
    "        # \"\"\"\n",
    "        # display(HTML(styled_html))\n",
    "\n",
    "        html_table = df.to_html(index=False, escape=False)\n",
    "        styled_html = f\"\"\"\n",
    "        <div style='display:flex; justify-content:center; margin-top:20px'>\n",
    "            <table style='border-collapse: collapse; border: 1px solid black;'>\n",
    "                <thead>\n",
    "                    {html_table.split('<thead>')[1].split('</thead>')[0]}\n",
    "                </thead>\n",
    "                <tbody>\n",
    "                    {html_table.split('<tbody>')[1].split('</tbody>')[0]}\n",
    "                </tbody>\n",
    "            </table>\n",
    "        </div>\n",
    "        <style>\n",
    "            table, th, td {{\n",
    "                border: 1px solid black;\n",
    "                padding: 8px;\n",
    "                text-align: center;\n",
    "            }}\n",
    "            th {{\n",
    "                background-color: #f0f0f0;\n",
    "            }}\n",
    "        </style>\n",
    "        \"\"\"\n",
    "        display(HTML(styled_html))\n",
    "\n",
    "    render_table(df_impact)\n",
    "    render_table(df_summary)\n",
    "\n",
    "# --- Title ---\n",
    "title_html = HTML(\"<h2 style='color: #2E86C1; text-align:center;'>Customer Churn ROI Calculator</h2>\")\n",
    "display(title_html)\n",
    "\n",
    "# --- Widgets ---\n",
    "recall_input = widgets.FloatSlider(value=0.6, min=0.0, max=1.0, step=0.01, description='Recall', style={'description_width': '120px'}, readout_format='.0%')\n",
    "precision_input = widgets.FloatSlider(value=0.7, min=0.0, max=1.0, step=0.01, description='Precision', style={'description_width': '120px'}, readout_format='.0%')\n",
    "model_metrics_box = widgets.VBox([widgets.HTML(\"<b>Model Metrics</b>\"), recall_input, precision_input], layout=Layout(align_items='center'))\n",
    "\n",
    "churn_rate_input = widgets.FloatSlider(value=0.25, min=0.01, max=1.0, step=0.01, description='Churn Rate', style={'description_width': '120px'}, readout_format='.0%')\n",
    "total_customers_input = widgets.IntText(value=10000, description='Total Customers', style={'description_width': '120px'})\n",
    "customer_ltv_input = widgets.FloatText(value=1000, description='Customer LTV ($)', style={'description_width': '120px'})\n",
    "retention_cost_input = widgets.FloatText(value=50, description='Retention Cost ($)', style={'description_width': '120px'})\n",
    "financial_inputs_box = widgets.VBox([widgets.HTML(\"<b>Financial Inputs</b>\"), churn_rate_input, total_customers_input, customer_ltv_input, retention_cost_input],layout=Layout(align_items='center'))\n",
    "\n",
    "ui = widgets.HBox([model_metrics_box, financial_inputs_box], layout=widgets.Layout(justify_content='space-around'))\n",
    "\n",
    "out = widgets.interactive_output(\n",
    "    churn_roi_summary,\n",
    "    {\n",
    "        'churn_rate': churn_rate_input,\n",
    "        'total_customers': total_customers_input,\n",
    "        'customer_ltv': customer_ltv_input,\n",
    "        'retention_cost': retention_cost_input,\n",
    "        'recall': recall_input,\n",
    "        'precision': precision_input\n",
    "    }\n",
    ")\n",
    "\n",
    "display(ui)\n",
    "display(widgets.HTML(\"<br><br>\"))  # Extra space\n",
    "display(out)\n"
   ]
  },
  {
   "cell_type": "code",
   "execution_count": null,
   "id": "10646a02-52a0-4ee2-b982-91603623e484",
   "metadata": {},
   "outputs": [],
   "source": []
  }
 ],
 "metadata": {
  "kernelspec": {
   "display_name": "Python 3 (ipykernel)",
   "language": "python",
   "name": "python3"
  },
  "language_info": {
   "codemirror_mode": {
    "name": "ipython",
    "version": 3
   },
   "file_extension": ".py",
   "mimetype": "text/x-python",
   "name": "python",
   "nbconvert_exporter": "python",
   "pygments_lexer": "ipython3",
   "version": "3.11.4"
  }
 },
 "nbformat": 4,
 "nbformat_minor": 5
}
